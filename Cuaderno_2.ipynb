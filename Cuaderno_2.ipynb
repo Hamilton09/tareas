{
  "nbformat": 4,
  "nbformat_minor": 0,
  "metadata": {
    "colab": {
      "provenance": [],
      "authorship_tag": "ABX9TyN/Erqn1AlPduYXVTMJD1bP",
      "include_colab_link": true
    },
    "kernelspec": {
      "name": "python3",
      "display_name": "Python 3"
    },
    "language_info": {
      "name": "python"
    }
  },
  "cells": [
    {
      "cell_type": "markdown",
      "metadata": {
        "id": "view-in-github",
        "colab_type": "text"
      },
      "source": [
        "<a href=\"https://colab.research.google.com/github/Hamilton09/tareas/blob/main/Cuaderno_2.ipynb\" target=\"_parent\"><img src=\"https://colab.research.google.com/assets/colab-badge.svg\" alt=\"Open In Colab\"/></a>"
      ]
    },
    {
      "cell_type": "code",
      "execution_count": null,
      "metadata": {
        "colab": {
          "base_uri": "https://localhost:8080/"
        },
        "id": "j5_krNrKit4e",
        "outputId": "7d7bb4e1-1b1e-49f1-e080-fce8d8b1593a"
      },
      "outputs": [
        {
          "output_type": "stream",
          "name": "stdout",
          "text": [
            "Python 3.10.12\n"
          ]
        }
      ],
      "source": [
        "!python --version"
      ]
    },
    {
      "cell_type": "code",
      "source": [
        "sample1=10\n",
        "sample2=2.2\n",
        "sample3='Ivan'\n",
        "print(type(sample1))\n",
        "print(type(sample2))\n",
        "print(type(sample3))\n",
        "\n",
        "print(sample1+sample2)\n",
        "print(sample1*sample2)\n",
        "print(sample1**2)\n",
        "\n",
        "s1=True\n",
        "s2=False\n",
        "\n",
        "#print(s1 and s2)\n",
        "#print(s1 or s2)\n",
        "#print(not s1)\n",
        "#print(len(sample3))\n",
        "#print(sample3.upper())\n",
        "#print(sample3.lower())\n",
        "#print(sample3.capitalize())"
      ],
      "metadata": {
        "colab": {
          "base_uri": "https://localhost:8080/"
        },
        "id": "UM843ph2jBoV",
        "outputId": "663fac9d-ed01-4b47-de72-065c448efc7a"
      },
      "execution_count": null,
      "outputs": [
        {
          "output_type": "stream",
          "name": "stdout",
          "text": [
            "<class 'int'>\n",
            "<class 'float'>\n",
            "<class 'str'>\n",
            "12.2\n",
            "22.0\n",
            "100\n"
          ]
        }
      ]
    },
    {
      "cell_type": "code",
      "source": [
        "someList=list()\n",
        "someList=['borrador',1,'goma','mochila',True]\n",
        "#print(someList[4])\n",
        "#print(len(someList))\n",
        "\n",
        "#print('--------------')\n",
        "#for i in someList:\n",
        "#  print(i)\n",
        "\n",
        "\n",
        "#someList.append('regla')\n",
        "#print('--------------')\n",
        "#for i in someList:\n",
        "#  print (i)\n",
        "\n",
        "#someList.pop(2)\n",
        "#print('--------------')\n",
        "#for i in someList:\n",
        "#  print(i)\n",
        "#print('-------')\n",
        "#print(someList[1:4])\n",
        "print(someList[-1])\n",
        "print(someList[:3])"
      ],
      "metadata": {
        "id": "Ow1zqeC7nE0P",
        "outputId": "dbe3e49f-3d9e-423a-d50d-1d8910119743",
        "colab": {
          "base_uri": "https://localhost:8080/"
        }
      },
      "execution_count": null,
      "outputs": [
        {
          "output_type": "stream",
          "name": "stdout",
          "text": [
            "True\n",
            "['borrador', 1, 'goma']\n"
          ]
        }
      ]
    },
    {
      "cell_type": "markdown",
      "source": [],
      "metadata": {
        "id": "drLeaFd7jBSf"
      }
    },
    {
      "cell_type": "code",
      "source": [
        "d={'name':'juan','age':30,'city':'El Carmen'}\n",
        "#print(d['name'])\n",
        "#print(d['city'])\n",
        "\n",
        "#d['uni']='Uleam'\n",
        "#print(d['uni'])\n",
        "\n",
        "for key in d:\n",
        "  print(d[key])\n"
      ],
      "metadata": {
        "id": "sG9deubGpbY-",
        "outputId": "f582afca-d50a-4e3f-9bd2-c4b478b754dd",
        "colab": {
          "base_uri": "https://localhost:8080/"
        }
      },
      "execution_count": null,
      "outputs": [
        {
          "output_type": "stream",
          "name": "stdout",
          "text": [
            "juan\n",
            "30\n",
            "El Carmen\n"
          ]
        }
      ]
    }
  ]
}