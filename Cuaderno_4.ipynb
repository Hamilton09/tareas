{
  "nbformat": 4,
  "nbformat_minor": 0,
  "metadata": {
    "colab": {
      "provenance": [],
      "authorship_tag": "ABX9TyNFuZckNDSmBYDiK9eQu1Uj",
      "include_colab_link": true
    },
    "kernelspec": {
      "name": "python3",
      "display_name": "Python 3"
    },
    "language_info": {
      "name": "python"
    }
  },
  "cells": [
    {
      "cell_type": "markdown",
      "metadata": {
        "id": "view-in-github",
        "colab_type": "text"
      },
      "source": [
        "<a href=\"https://colab.research.google.com/github/Hamilton09/tareas/blob/main/Cuaderno_4.ipynb\" target=\"_parent\"><img src=\"https://colab.research.google.com/assets/colab-badge.svg\" alt=\"Open In Colab\"/></a>"
      ]
    },
    {
      "cell_type": "code",
      "execution_count": 1,
      "metadata": {
        "colab": {
          "base_uri": "https://localhost:8080/"
        },
        "id": "wH1hzh-r0SKw",
        "outputId": "6b20c3bc-44e4-447a-e56a-fbf2c36c185f"
      },
      "outputs": [
        {
          "output_type": "stream",
          "name": "stdout",
          "text": [
            "[[2 7 7 2]\n",
            " [7 4 4 9]\n",
            " [3 7 9 7]]\n",
            "[[ 9  1 10  2]\n",
            " [ 6  3  1 10]\n",
            " [ 2  1  4  5]]\n",
            "(3, 4)\n",
            "(3, 4)\n",
            "adding numbers\n",
            "[[11  8 17  4]\n",
            " [13  7  5 19]\n",
            " [ 5  8 13 12]]\n",
            "substracting numbers\n",
            "[[-7  6 -3  0]\n",
            " [ 1  1  3 -1]\n",
            " [ 1  6  5  2]]\n",
            "multiply numbers\n",
            "[[18  7 70  4]\n",
            " [42 12  4 90]\n",
            " [ 6  7 36 35]]\n",
            "[[11  8 17  4]\n",
            " [13  7  5 19]\n",
            " [ 5  8 13 12]]\n",
            "[[18  7 70  4]\n",
            " [42 12  4 90]\n",
            " [ 6  7 36 35]]\n",
            "[[0.22222222 7.         0.7        1.        ]\n",
            " [1.16666667 1.33333333 4.         0.9       ]\n",
            " [1.5        7.         2.25       1.4       ]]\n"
          ]
        }
      ],
      "source": [
        "import numpy as np\n",
        "\n",
        "# Create an array with random values between 1 and 10\n",
        "a = np.random.randint(1, 11, size=(3, 4))\n",
        "b = np.random.randint(1, 11, size=(3, 4))\n",
        "\n",
        "# Print the random array\n",
        "print(a)\n",
        "print(b)\n",
        "print(a.shape)\n",
        "print(b.shape)\n",
        "print('adding numbers')\n",
        "print(a+b)\n",
        "print('substracting numbers')\n",
        "print(a-b)\n",
        "print('multiply numbers')\n",
        "print(a*b)\n",
        "\n",
        "print(np.add(a,b))\n",
        "print(np.multiply(a,b))\n",
        "print(np.divide(a,b))"
      ]
    },
    {
      "cell_type": "code",
      "source": [
        "a = np.random.randint(1, 11, size=(2, 3))\n",
        "b = np.random.randint(1, 11, size=(3, 4))\n",
        "print(a)\n",
        "print(b)\n",
        "print(np.dot(a,b))\n",
        "print(a.dot(b))\n",
        "print(a.shape)"
      ],
      "metadata": {
        "colab": {
          "base_uri": "https://localhost:8080/"
        },
        "id": "dK6Y8tuV3X3O",
        "outputId": "21adbc52-3032-4d36-bea4-e58406be0341"
      },
      "execution_count": 2,
      "outputs": [
        {
          "output_type": "stream",
          "name": "stdout",
          "text": [
            "[[ 4  7 10]\n",
            " [ 8  5  9]]\n",
            "[[ 3  7  7  6]\n",
            " [ 4  4  1  2]\n",
            " [10  6  7  3]]\n",
            "[[140 116 105  68]\n",
            " [134 130 124  85]]\n",
            "[[140 116 105  68]\n",
            " [134 130 124  85]]\n",
            "(2, 3)\n"
          ]
        }
      ]
    },
    {
      "cell_type": "code",
      "source": [
        "a = np.random.randint(1, 11, size=(2,2))\n",
        "print(a.shape)\n",
        "print(type(a))\n",
        "print(a)\n",
        "print(a.T)"
      ],
      "metadata": {
        "colab": {
          "base_uri": "https://localhost:8080/"
        },
        "id": "lWr7nE0v3ZJF",
        "outputId": "1f2a0045-ecad-49a9-f069-dcb815c6d981"
      },
      "execution_count": 3,
      "outputs": [
        {
          "output_type": "stream",
          "name": "stdout",
          "text": [
            "(2, 2)\n",
            "<class 'numpy.ndarray'>\n",
            "[[ 5  9]\n",
            " [ 9 10]]\n",
            "[[ 5  9]\n",
            " [ 9 10]]\n"
          ]
        }
      ]
    },
    {
      "cell_type": "code",
      "source": [
        "a = np.random.randint(1, 11, size=(4,3))\n",
        "b = np.array([1,0,2])\n",
        "print(a.shape)\n",
        "print(b.shape)\n",
        "\n",
        "c=np.empty_like(a)\n",
        "print(a)\n",
        "print(b)\n",
        "print(c.shape)\n",
        "print('---------------')\n",
        "print(c)"
      ],
      "metadata": {
        "colab": {
          "base_uri": "https://localhost:8080/"
        },
        "id": "moG68fH-3cvJ",
        "outputId": "002ad7aa-5ee2-409a-fc26-0d69c6001069"
      },
      "execution_count": 4,
      "outputs": [
        {
          "output_type": "stream",
          "name": "stdout",
          "text": [
            "(4, 3)\n",
            "(3,)\n",
            "[[ 2  6  1]\n",
            " [ 8  5  7]\n",
            " [ 4  2 10]\n",
            " [10  8  4]]\n",
            "[1 0 2]\n",
            "(4, 3)\n",
            "---------------\n",
            "[[2 7 7]\n",
            " [2 7 4]\n",
            " [4 9 3]\n",
            " [7 9 7]]\n"
          ]
        }
      ]
    },
    {
      "cell_type": "code",
      "source": [
        "for i in range(4):\n",
        "  c[i,:]=a[i,:]+b\n",
        "\n",
        "  print(a)\n",
        "  print(b)\n",
        "  print(c)\n",
        "\n",
        "  c=a+b\n",
        "  print(c)"
      ],
      "metadata": {
        "colab": {
          "base_uri": "https://localhost:8080/"
        },
        "id": "XNKa6TaD3fZi",
        "outputId": "17daae5b-24bc-40ae-a4a6-c2e31b84b50a"
      },
      "execution_count": 5,
      "outputs": [
        {
          "output_type": "stream",
          "name": "stdout",
          "text": [
            "[[ 2  6  1]\n",
            " [ 8  5  7]\n",
            " [ 4  2 10]\n",
            " [10  8  4]]\n",
            "[1 0 2]\n",
            "[[3 6 3]\n",
            " [2 7 4]\n",
            " [4 9 3]\n",
            " [7 9 7]]\n",
            "[[ 3  6  3]\n",
            " [ 9  5  9]\n",
            " [ 5  2 12]\n",
            " [11  8  6]]\n",
            "[[ 2  6  1]\n",
            " [ 8  5  7]\n",
            " [ 4  2 10]\n",
            " [10  8  4]]\n",
            "[1 0 2]\n",
            "[[ 3  6  3]\n",
            " [ 9  5  9]\n",
            " [ 5  2 12]\n",
            " [11  8  6]]\n",
            "[[ 3  6  3]\n",
            " [ 9  5  9]\n",
            " [ 5  2 12]\n",
            " [11  8  6]]\n",
            "[[ 2  6  1]\n",
            " [ 8  5  7]\n",
            " [ 4  2 10]\n",
            " [10  8  4]]\n",
            "[1 0 2]\n",
            "[[ 3  6  3]\n",
            " [ 9  5  9]\n",
            " [ 5  2 12]\n",
            " [11  8  6]]\n",
            "[[ 3  6  3]\n",
            " [ 9  5  9]\n",
            " [ 5  2 12]\n",
            " [11  8  6]]\n",
            "[[ 2  6  1]\n",
            " [ 8  5  7]\n",
            " [ 4  2 10]\n",
            " [10  8  4]]\n",
            "[1 0 2]\n",
            "[[ 3  6  3]\n",
            " [ 9  5  9]\n",
            " [ 5  2 12]\n",
            " [11  8  6]]\n",
            "[[ 3  6  3]\n",
            " [ 9  5  9]\n",
            " [ 5  2 12]\n",
            " [11  8  6]]\n"
          ]
        }
      ]
    },
    {
      "cell_type": "code",
      "source": [
        "a=np.array([1,2,3])\n",
        "\n",
        "print(a)\n",
        "tmp=np.tile(a,(6,1))\n",
        "print(tmp)\n"
      ],
      "metadata": {
        "colab": {
          "base_uri": "https://localhost:8080/"
        },
        "id": "yGCH7_4O3izQ",
        "outputId": "ba34660b-8c11-4c7f-9b2e-ca424c6ccbd7"
      },
      "execution_count": 6,
      "outputs": [
        {
          "output_type": "stream",
          "name": "stdout",
          "text": [
            "[1 2 3]\n",
            "[[1 2 3]\n",
            " [1 2 3]\n",
            " [1 2 3]\n",
            " [1 2 3]\n",
            " [1 2 3]\n",
            " [1 2 3]]\n"
          ]
        }
      ]
    },
    {
      "cell_type": "code",
      "source": [
        "a=np.random.randint(0,10, size=(6,6))\n",
        "print(a)\n",
        "aux=np.mean(a)\n",
        "print(aux)\n",
        "print(a.mean(axis=1))\n"
      ],
      "metadata": {
        "colab": {
          "base_uri": "https://localhost:8080/"
        },
        "id": "gqPDyEOt3lUR",
        "outputId": "9ed87c47-8652-4356-fb71-0517144a6564"
      },
      "execution_count": 7,
      "outputs": [
        {
          "output_type": "stream",
          "name": "stdout",
          "text": [
            "[[7 5 7 4 3 7]\n",
            " [1 7 0 7 0 0]\n",
            " [9 6 7 0 2 7]\n",
            " [5 2 8 8 5 9]\n",
            " [6 0 3 2 3 2]\n",
            " [0 7 5 1 2 7]]\n",
            "4.277777777777778\n",
            "[5.5        2.5        5.16666667 6.16666667 2.66666667 3.66666667]\n"
          ]
        }
      ]
    }
  ]
}