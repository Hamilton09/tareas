{
  "nbformat": 4,
  "nbformat_minor": 0,
  "metadata": {
    "colab": {
      "provenance": [],
      "authorship_tag": "ABX9TyMw7HWl1iZL+3u4bbgwaHAG",
      "include_colab_link": true
    },
    "kernelspec": {
      "name": "python3",
      "display_name": "Python 3"
    },
    "language_info": {
      "name": "python"
    }
  },
  "cells": [
    {
      "cell_type": "markdown",
      "metadata": {
        "id": "view-in-github",
        "colab_type": "text"
      },
      "source": [
        "<a href=\"https://colab.research.google.com/github/Hamilton09/tareas/blob/main/Cuaderno_1.ipynb\" target=\"_parent\"><img src=\"https://colab.research.google.com/assets/colab-badge.svg\" alt=\"Open In Colab\"/></a>"
      ]
    },
    {
      "cell_type": "code",
      "execution_count": 1,
      "metadata": {
        "colab": {
          "base_uri": "https://localhost:8080/"
        },
        "id": "iE5Np1KEx3NR",
        "outputId": "f58d8734-b585-4eb3-bf9c-4268c9b05ff9"
      },
      "outputs": [
        {
          "output_type": "stream",
          "name": "stdout",
          "text": [
            "3\n"
          ]
        }
      ],
      "source": [
        "num_1 = 1\n",
        "num_2 = 2\n",
        "print(num_1+num_2)"
      ]
    },
    {
      "cell_type": "code",
      "source": [
        "pote = 1**num_2\n",
        "print(pote)"
      ],
      "metadata": {
        "colab": {
          "base_uri": "https://localhost:8080/"
        },
        "id": "2WsDRGY5yCbo",
        "outputId": "8d950b88-05c4-40c5-832e-f21ca30a715b"
      },
      "execution_count": 2,
      "outputs": [
        {
          "output_type": "stream",
          "name": "stdout",
          "text": [
            "1\n"
          ]
        }
      ]
    },
    {
      "cell_type": "code",
      "source": [
        "aux_1=True\n",
        "aux_2=False\n",
        "print(aux_1 and aux_2)\n",
        "print(aux_1 or aux_2)\n",
        "\n",
        "#print(not aux_1)\n",
        "#print(not aux_2)\n"
      ],
      "metadata": {
        "colab": {
          "base_uri": "https://localhost:8080/"
        },
        "id": "ktAG8NCayGZf",
        "outputId": "42bfca44-0dd5-49bb-a3aa-45bde82edb38"
      },
      "execution_count": 7,
      "outputs": [
        {
          "output_type": "stream",
          "name": "stdout",
          "text": [
            "False\n",
            "True\n"
          ]
        }
      ]
    },
    {
      "cell_type": "code",
      "source": [
        "myName=\"Ivan\"\n",
        "print(myName)\n",
        "print(myName.upper())\n",
        "print(myName.lower())"
      ],
      "metadata": {
        "colab": {
          "base_uri": "https://localhost:8080/"
        },
        "id": "3Uk48-EbyZxY",
        "outputId": "cd57ff04-6996-43cb-f928-3e1d0fc16a43"
      },
      "execution_count": 9,
      "outputs": [
        {
          "output_type": "stream",
          "name": "stdout",
          "text": [
            "Ivan\n",
            "IVAN\n",
            "ivan\n"
          ]
        }
      ]
    },
    {
      "cell_type": "code",
      "source": [
        "tmp='ivan ; hamilton ; Yair'\n",
        "print(tmp)\n",
        "print(tmp.split(';'))"
      ],
      "metadata": {
        "colab": {
          "base_uri": "https://localhost:8080/"
        },
        "id": "1ZodPXAGyeR7",
        "outputId": "7d680eec-8827-477d-a06f-e0d39753096b"
      },
      "execution_count": 10,
      "outputs": [
        {
          "output_type": "stream",
          "name": "stdout",
          "text": [
            "ivan ; hamilton ; Yair\n",
            "['ivan ', ' hamilton ', ' Yair']\n"
          ]
        }
      ]
    },
    {
      "cell_type": "code",
      "source": [
        "lista=('cuaderno','lapiz','borrador','regla')\n",
        "print(lista)\n",
        "nuevo_objeto='hoja'\n",
        "#lista.append(nuevo_objeto)\n",
        "print(lista)"
      ],
      "metadata": {
        "colab": {
          "base_uri": "https://localhost:8080/"
        },
        "id": "x-Nutd9WylmB",
        "outputId": "ce2a8f8d-c95c-4cf9-dace-f1155224ac99"
      },
      "execution_count": 11,
      "outputs": [
        {
          "output_type": "stream",
          "name": "stdout",
          "text": [
            "('cuaderno', 'lapiz', 'borrador', 'regla')\n",
            "('cuaderno', 'lapiz', 'borrador', 'regla')\n"
          ]
        }
      ]
    },
    {
      "cell_type": "code",
      "source": [
        "newListeNum=list(range(20))\n",
        "print(newListeNum)\n",
        "print(newListeNum[5:11])\n",
        "print(newListeNum[-1])"
      ],
      "metadata": {
        "colab": {
          "base_uri": "https://localhost:8080/"
        },
        "id": "jGRloBgByoFr",
        "outputId": "656c4296-1b57-4dfa-cd8b-00cb034cb859"
      },
      "execution_count": 12,
      "outputs": [
        {
          "output_type": "stream",
          "name": "stdout",
          "text": [
            "[0, 1, 2, 3, 4, 5, 6, 7, 8, 9, 10, 11, 12, 13, 14, 15, 16, 17, 18, 19]\n",
            "[5, 6, 7, 8, 9, 10]\n",
            "19\n"
          ]
        }
      ]
    },
    {
      "cell_type": "code",
      "source": [],
      "metadata": {
        "id": "KqpHt61myqSy"
      },
      "execution_count": null,
      "outputs": []
    }
  ]
}