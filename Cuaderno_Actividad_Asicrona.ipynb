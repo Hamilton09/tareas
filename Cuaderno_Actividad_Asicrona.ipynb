{
  "nbformat": 4,
  "nbformat_minor": 0,
  "metadata": {
    "colab": {
      "provenance": [],
      "authorship_tag": "ABX9TyOQaPFv+27Y1zpkiD+nVFx5",
      "include_colab_link": true
    },
    "kernelspec": {
      "name": "python3",
      "display_name": "Python 3"
    },
    "language_info": {
      "name": "python"
    }
  },
  "cells": [
    {
      "cell_type": "markdown",
      "metadata": {
        "id": "view-in-github",
        "colab_type": "text"
      },
      "source": [
        "<a href=\"https://colab.research.google.com/github/Hamilton09/tareas/blob/main/Cuaderno_Actividad_Asicrona.ipynb\" target=\"_parent\"><img src=\"https://colab.research.google.com/assets/colab-badge.svg\" alt=\"Open In Colab\"/></a>"
      ]
    },
    {
      "cell_type": "code",
      "execution_count": 1,
      "metadata": {
        "id": "fm6loP7b9JIS"
      },
      "outputs": [],
      "source": [
        "# Import numpy as np and see the version\n",
        "\n",
        "# your code here\n",
        "#pass\n",
        "import numpy as np"
      ]
    },
    {
      "cell_type": "code",
      "source": [
        "# Create a 1D array of numbers from 0 to 9\n",
        "# your code here\n",
        "#pass\n",
        "a = np.random.randint(0,9, size=(1,9))\n",
        "print (a)"
      ],
      "metadata": {
        "colab": {
          "base_uri": "https://localhost:8080/"
        },
        "id": "z_4CgJz49Q_6",
        "outputId": "56990f99-85b0-484b-eba1-7d0a7f62fab9"
      },
      "execution_count": 2,
      "outputs": [
        {
          "output_type": "stream",
          "name": "stdout",
          "text": [
            "[[3 2 4 0 4 1 4 4 8]]\n"
          ]
        }
      ]
    },
    {
      "cell_type": "code",
      "source": [
        "# Create random vector of size 10 and replace the maximum value by 0\n",
        "#pass\n",
        "vector= np.random.randint(0,101, size=10)\n",
        "print(\"Vector original:\")\n",
        "print(vector)\n",
        "indice_maximo=np.argmax(vector)\n",
        "vector[indice_maximo] = 0\n",
        "print(\"Vector con el máximo valor reemplazado por O:\")\n",
        "print(vector)"
      ],
      "metadata": {
        "colab": {
          "base_uri": "https://localhost:8080/"
        },
        "id": "DEGlJCye9Sx4",
        "outputId": "f28805ac-c168-4999-a8fa-3d4cfb3290d2"
      },
      "execution_count": 3,
      "outputs": [
        {
          "output_type": "stream",
          "name": "stdout",
          "text": [
            "Vector original:\n",
            "[42 25 99 99 91 69 80 28 24 28]\n",
            "Vector con el máximo valor reemplazado por O:\n",
            "[42 25  0 99 91 69 80 28 24 28]\n"
          ]
        }
      ]
    },
    {
      "cell_type": "code",
      "source": [
        "# Print the number 8 from the array below:\n",
        "# arr = np.array([[1,2,3,4,5], [6,7,8,9,10]])\n",
        "#pass\n",
        "arr=np.array([[1,2,3,4,5],[6,7,8,9,10]])\n",
        "number=arr[1,2]\n",
        "print(\"Numero o from the array:\", number)"
      ],
      "metadata": {
        "colab": {
          "base_uri": "https://localhost:8080/"
        },
        "id": "RNMjgRhJ9Ujn",
        "outputId": "db3ceda5-0632-4ffb-ed1c-4332270a7e0b"
      },
      "execution_count": 4,
      "outputs": [
        {
          "output_type": "stream",
          "name": "stdout",
          "text": [
            "Numero o from the array: 8\n"
          ]
        }
      ]
    },
    {
      "cell_type": "code",
      "source": [
        "# Print the numbers [3, 4, 5] from the array below:\n",
        "# arr = np.array([1,2,3,4,5,6,7])\n",
        "#pass\n",
        "arr=np.array([1,2,3,4,5,6,7])\n",
        "numer=arr[2:5]\n",
        "print(\"numero impreso:\", numer)"
      ],
      "metadata": {
        "colab": {
          "base_uri": "https://localhost:8080/"
        },
        "id": "---WTHCI9Wjb",
        "outputId": "18c4a868-f9ba-42e7-d166-2caed20399f2"
      },
      "execution_count": 5,
      "outputs": [
        {
          "output_type": "stream",
          "name": "stdout",
          "text": [
            "numero impreso: [3 4 5]\n"
          ]
        }
      ]
    },
    {
      "cell_type": "code",
      "source": [
        "# Print the last 4 numbers from the array below:\n",
        "# arr = np.array([1,2,3,4,5,6,7])\n",
        "#pass\n",
        "arr=np.array([1,2,3,4,5,6,7])\n",
        "numer=arr[-4:]\n",
        "print(\"numero impreso:\", numer)"
      ],
      "metadata": {
        "colab": {
          "base_uri": "https://localhost:8080/"
        },
        "id": "435LUq2o9WgF",
        "outputId": "e0a4406e-9d2c-4f9b-af88-baf7e1e310a9"
      },
      "execution_count": 6,
      "outputs": [
        {
          "output_type": "stream",
          "name": "stdout",
          "text": [
            "numero impreso: [4 5 6 7]\n"
          ]
        }
      ]
    },
    {
      "cell_type": "code",
      "source": [
        "# Create a 3×3 numpy array of all True’s\n",
        "# your code here\n",
        "#pass\n",
        "matriz= np.ones((3,3), dtype=bool)\n",
        "print(\"matriz 3*3\")\n",
        "print(matriz)"
      ],
      "metadata": {
        "colab": {
          "base_uri": "https://localhost:8080/"
        },
        "id": "SB_sMHEv9aHo",
        "outputId": "32bee45b-bd1b-4b86-d27b-cefd846e51a6"
      },
      "execution_count": 7,
      "outputs": [
        {
          "output_type": "stream",
          "name": "stdout",
          "text": [
            "matriz 3*3\n",
            "[[ True  True  True]\n",
            " [ True  True  True]\n",
            " [ True  True  True]]\n"
          ]
        }
      ]
    },
    {
      "cell_type": "code",
      "source": [
        "# Extract all odd numbers from arr\n",
        "# your code here\n",
        "#pass\n",
        "arr = np.array([1,2,3,4,5,6,7,8,9])\n",
        "odd_number=arr[arr % 2 !=0]\n",
        "print(\"numeros impares:\", odd_number)"
      ],
      "metadata": {
        "colab": {
          "base_uri": "https://localhost:8080/"
        },
        "id": "7-ij05pb9cBJ",
        "outputId": "a4c77aec-30ae-4cf0-a7b1-f33f584f8f62"
      },
      "execution_count": 8,
      "outputs": [
        {
          "output_type": "stream",
          "name": "stdout",
          "text": [
            "numeros impares: [1 3 5 7 9]\n"
          ]
        }
      ]
    },
    {
      "cell_type": "code",
      "source": [
        "# Create a vector with values ranging from 10 to 49 (★☆☆)\n",
        "#pass\n",
        "vector = np.arange(10,50)\n",
        "print(vector)"
      ],
      "metadata": {
        "colab": {
          "base_uri": "https://localhost:8080/"
        },
        "id": "KWKxiHy49dxx",
        "outputId": "7a966b42-f665-44b1-ea0d-ab3530be3538"
      },
      "execution_count": 9,
      "outputs": [
        {
          "output_type": "stream",
          "name": "stdout",
          "text": [
            "[10 11 12 13 14 15 16 17 18 19 20 21 22 23 24 25 26 27 28 29 30 31 32 33\n",
            " 34 35 36 37 38 39 40 41 42 43 44 45 46 47 48 49]\n"
          ]
        }
      ]
    },
    {
      "cell_type": "code",
      "source": [
        "# Reverse a vector (first element becomes last)\n",
        "#pass\n",
        "vector=np.array([1,2,3,4,5])\n",
        "vector_revertido = vector[::-1]\n",
        "print(vector)"
      ],
      "metadata": {
        "colab": {
          "base_uri": "https://localhost:8080/"
        },
        "id": "Okn-PqDP9fTk",
        "outputId": "d0f7f8d4-de72-40fb-c9b5-499b54024fd0"
      },
      "execution_count": 10,
      "outputs": [
        {
          "output_type": "stream",
          "name": "stdout",
          "text": [
            "[1 2 3 4 5]\n"
          ]
        }
      ]
    },
    {
      "cell_type": "code",
      "source": [
        "#  Create a 10x10 array with random integer values and find the minimum and maximum values\n",
        "#pass\n",
        "matriz = np.random.randint(0,101, size=(10,10))\n",
        "print(\"Matriz de  10*10 valores enteros aleatorios:\")\n",
        "print(matriz)\n",
        "\n",
        "valor_minimo=np.min(matriz)\n",
        "valor_maximo=np.max(matriz)\n",
        "print(\"Valor nínimo en la matriz:\", valor_minimo)\n",
        "print(\"Valor máximo en la matriz:\", valor_maximo)"
      ],
      "metadata": {
        "colab": {
          "base_uri": "https://localhost:8080/"
        },
        "id": "maRn1Kag9g-y",
        "outputId": "383787b0-138f-4cc6-b90c-da1656b734cf"
      },
      "execution_count": 11,
      "outputs": [
        {
          "output_type": "stream",
          "name": "stdout",
          "text": [
            "Matriz de  10*10 valores enteros aleatorios:\n",
            "[[ 33  81  14  10  45   2  63  97  12  81]\n",
            " [  8  23  18  94  44   9  88  26  38  14]\n",
            " [100  18  45  18  25  84  71  60  53  72]\n",
            " [ 87  64  74  92  18  57  31  99  96  26]\n",
            " [ 52  62   1  73  74  38  63  98  89  39]\n",
            " [ 30  54  82  35  55  18  83  86  83  54]\n",
            " [ 31  72  43   8  51  96  41  70  50  58]\n",
            " [ 80  72  35  98  44  43  64  60  27  98]\n",
            " [ 70  93  97  71  69  72  61  19  15  57]\n",
            " [ 63  59  96  73  81  15  67  31  31  59]]\n",
            "Valor nínimo en la matriz: 1\n",
            "Valor máximo en la matriz: 100\n"
          ]
        }
      ]
    },
    {
      "cell_type": "code",
      "source": [
        "# Create a 3x3x3 array with random values\n",
        "#pass\n",
        "matriz_tridimensional = np.random.random((3, 3, 3))\n",
        "print(\"Matriz tridimensional 3x3x3 con valores aleatorios:\")\n",
        "print(matriz_tridimensional)"
      ],
      "metadata": {
        "colab": {
          "base_uri": "https://localhost:8080/"
        },
        "id": "L1c9jPEU9i4r",
        "outputId": "59d64bc2-e0c3-4073-edd4-1cc1796ff3ed"
      },
      "execution_count": 12,
      "outputs": [
        {
          "output_type": "stream",
          "name": "stdout",
          "text": [
            "Matriz tridimensional 3x3x3 con valores aleatorios:\n",
            "[[[0.68722359 0.05831956 0.09425655]\n",
            "  [0.03418933 0.69320232 0.62127369]\n",
            "  [0.59299052 0.6294259  0.23444372]]\n",
            "\n",
            " [[0.1823469  0.74784671 0.09939497]\n",
            "  [0.35764839 0.62403419 0.20795416]\n",
            "  [0.04516328 0.33769361 0.98574175]]\n",
            "\n",
            " [[0.7808156  0.66989807 0.71973729]\n",
            "  [0.02362599 0.46083748 0.39316248]\n",
            "  [0.80482911 0.23785321 0.94423292]]]\n"
          ]
        }
      ]
    },
    {
      "cell_type": "code",
      "source": [
        "# Replace all odd numbers in arr with -1\n",
        "# your code here\n",
        "#pass\n",
        "arr = np.array([1, 2, 3, 4, 5, 6, 7, 8, 9])\n",
        "arr[arr % 2 != 0] = -1\n",
        "print(\"Arreglo con números impares reemplazados por -1:\")\n",
        "print(arr)"
      ],
      "metadata": {
        "colab": {
          "base_uri": "https://localhost:8080/"
        },
        "id": "mHvSnXcG9kWr",
        "outputId": "b0324bab-3958-4aa7-dc1f-cb934e1c5d34"
      },
      "execution_count": 13,
      "outputs": [
        {
          "output_type": "stream",
          "name": "stdout",
          "text": [
            "Arreglo con números impares reemplazados por -1:\n",
            "[-1  2 -1  4 -1  6 -1  8 -1]\n"
          ]
        }
      ]
    },
    {
      "cell_type": "code",
      "source": [
        "# Create an array of type float\n",
        "#pass\n",
        "arreglo_float = np.array([1.1, 2.2, 3.3, 4.4, 5.5])\n",
        "\n",
        "print(\"Arreglo de tipo float:\")\n",
        "print(arreglo_float)"
      ],
      "metadata": {
        "colab": {
          "base_uri": "https://localhost:8080/"
        },
        "id": "rw83F8oN9l2J",
        "outputId": "5dc0548c-69dd-4379-ea44-ecaa1e0f89e9"
      },
      "execution_count": 14,
      "outputs": [
        {
          "output_type": "stream",
          "name": "stdout",
          "text": [
            "Arreglo de tipo float:\n",
            "[1.1 2.2 3.3 4.4 5.5]\n"
          ]
        }
      ]
    },
    {
      "cell_type": "code",
      "source": [
        "# Convert a 1D array to a 2D array with 2 rows\n",
        "# your code here\n",
        "#pass\n",
        "arreglo_1d = np.array([1, 2, 3, 4, 5, 6])\n",
        "arreglo_2d = arreglo_1d.reshape(2, -1)\n",
        "\n",
        "print(\"Arreglo bidimensional con 2 filas:\")\n",
        "print(arreglo_2d)"
      ],
      "metadata": {
        "colab": {
          "base_uri": "https://localhost:8080/"
        },
        "id": "6baYRLmA9nd9",
        "outputId": "e8061577-9133-4d5a-8225-5d71dbc04232"
      },
      "execution_count": 15,
      "outputs": [
        {
          "output_type": "stream",
          "name": "stdout",
          "text": [
            "Arreglo bidimensional con 2 filas:\n",
            "[[1 2 3]\n",
            " [4 5 6]]\n"
          ]
        }
      ]
    },
    {
      "cell_type": "code",
      "source": [
        "# How to find common values between two arrays?\n",
        "\n",
        "# Z1 = np.random.randint(0,10,10)\n",
        "# Z2 = np.random.randint(0,10,10)\n",
        "#pass\n",
        "Z1 = np.random.randint(0, 10, 10)\n",
        "Z2 = np.random.randint(0, 10, 10)\n",
        "valores_comunes = np.intersect1d(Z1, Z2)\n",
        "\n",
        "print(\"Valores comunes entre Z1 y Z2:\")\n",
        "print(valores_comunes)"
      ],
      "metadata": {
        "colab": {
          "base_uri": "https://localhost:8080/"
        },
        "id": "RFwCTj5V9pJa",
        "outputId": "469bcde7-3a6b-458a-b449-43c2ad4efbd3"
      },
      "execution_count": 16,
      "outputs": [
        {
          "output_type": "stream",
          "name": "stdout",
          "text": [
            "Valores comunes entre Z1 y Z2:\n",
            "[0 3 4 5 6 9]\n"
          ]
        }
      ]
    },
    {
      "cell_type": "code",
      "source": [
        "#  Consider two random array A and B, check if they are equal\n",
        "\n",
        "\n",
        "# A = np.random.randint(0,2,5)\n",
        "# B = np.random.randint(0,2,5)\n",
        "#pass\n",
        "A = np.random.randint(0, 2, 5)\n",
        "B = np.random.randint(0, 2, 5)\n",
        "son_iguales = np.array_equal(A, B)\n",
        "\n",
        "if son_iguales:\n",
        "    print(\"Los arreglos A y B son iguales.\")\n",
        "else:\n",
        "    print(\"Los arreglos A y B no son iguales.\")"
      ],
      "metadata": {
        "colab": {
          "base_uri": "https://localhost:8080/"
        },
        "id": "sK8RbUBD9qi2",
        "outputId": "3050816f-212e-41a5-f3a3-756c375dc8ec"
      },
      "execution_count": 17,
      "outputs": [
        {
          "output_type": "stream",
          "name": "stdout",
          "text": [
            "Los arreglos A y B no son iguales.\n"
          ]
        }
      ]
    },
    {
      "cell_type": "code",
      "source": [
        "# Stack arrays a and b vertically\n",
        "# your code here\n",
        "#pass\n",
        "a = np.array([1, 2, 3])\n",
        "b = np.array([4, 5, 6])\n",
        "\n",
        "resultado = np.vstack((a, b))\n",
        "\n",
        "print(\"Arreglos apilados verticalmente:\")\n",
        "print(resultado)"
      ],
      "metadata": {
        "colab": {
          "base_uri": "https://localhost:8080/"
        },
        "id": "obhk5kJk9r-O",
        "outputId": "6e433380-0694-4589-aad6-db26adde5dbc"
      },
      "execution_count": 18,
      "outputs": [
        {
          "output_type": "stream",
          "name": "stdout",
          "text": [
            "Arreglos apilados verticalmente:\n",
            "[[1 2 3]\n",
            " [4 5 6]]\n"
          ]
        }
      ]
    },
    {
      "cell_type": "code",
      "source": [
        "# Stack the arrays a and b horizontally.\n",
        "# your code here\n",
        "#pass\n",
        "a = np.array([1, 2, 3])\n",
        "b = np.array([4, 5, 6])\n",
        "\n",
        "resultado = np.hstack((a, b))\n",
        "\n",
        "print(\"Arreglos apilados horizontalmente:\")\n",
        "print(resultado)"
      ],
      "metadata": {
        "colab": {
          "base_uri": "https://localhost:8080/"
        },
        "id": "-TX0PbaQ9tXo",
        "outputId": "fcca0f03-cc2b-4550-da1f-05214862ea67"
      },
      "execution_count": 19,
      "outputs": [
        {
          "output_type": "stream",
          "name": "stdout",
          "text": [
            "Arreglos apilados horizontalmente:\n",
            "[1 2 3 4 5 6]\n"
          ]
        }
      ]
    },
    {
      "cell_type": "code",
      "source": [
        "# Get all items between 5 and 10 from array tmp.\n",
        "# your code here\n",
        "import numpy as np\n",
        "tmp = np.arange(15)\n",
        "# pass\n",
        "elementos_entre_5_y_10 = tmp[(tmp >= 5) & (tmp <= 10)]\n",
        "\n",
        "print(\"Elementos entre 5 y 10 del arreglo tmp:\")\n",
        "print(elementos_entre_5_y_10)"
      ],
      "metadata": {
        "colab": {
          "base_uri": "https://localhost:8080/"
        },
        "id": "TgEUZNR09u5J",
        "outputId": "7b57336a-43df-4a91-c6d0-18dd7712aabd"
      },
      "execution_count": 20,
      "outputs": [
        {
          "output_type": "stream",
          "name": "stdout",
          "text": [
            "Elementos entre 5 y 10 del arreglo tmp:\n",
            "[ 5  6  7  8  9 10]\n"
          ]
        }
      ]
    },
    {
      "cell_type": "code",
      "source": [
        "# How to make a python function that handles scalars to work on numpy arrays?\n",
        "# Hint\n",
        "# Desired Output:\n",
        "# a = np.array([5, 7, 9, 8, 6, 4, 5])\n",
        "# b = np.array([6, 3, 4, 8, 9, 7, 1])\n",
        "# pair_max(a, b)\n",
        "# #> array([ 6.,  7.,  9.,  8.,  9.,  7.,  5.])\n",
        "\n",
        "\n",
        "# your code here\n",
        "import numpy as np\n",
        "\n",
        "def maxx(x, y):\n",
        "    \"\"\"Get the maximum of two items\"\"\"\n",
        "    if x >= y:\n",
        "        return x\n",
        "    else:\n",
        "        return y\n",
        "\n",
        "maxx(1, 5)\n",
        "pair_max = np.vectorize(maxx)\n",
        "\n",
        "# Example usage\n",
        "a = np.array([5, 7, 9, 8, 6, 4, 5])\n",
        "b = np.array([6, 3, 4, 8, 9, 7, 1])\n",
        "\n",
        "# Call the pair_max function on NumPy arrays\n",
        "result = pair_max(a, b)\n",
        "\n",
        "print(\"Result of pair_max(a, b):\")\n",
        "print(result)"
      ],
      "metadata": {
        "colab": {
          "base_uri": "https://localhost:8080/"
        },
        "id": "dFH3Y6169wjn",
        "outputId": "9ed06107-5f81-4f1b-cd03-19a2ac99db74"
      },
      "execution_count": 21,
      "outputs": [
        {
          "output_type": "stream",
          "name": "stdout",
          "text": [
            "Result of pair_max(a, b):\n",
            "[6 7 9 8 9 7 5]\n"
          ]
        }
      ]
    },
    {
      "cell_type": "code",
      "source": [
        "# Swap columns 1 and 2 in the array arr.\n",
        "# Hint\n",
        "# Desired Output:\n",
        "# [[0 2 1]\n",
        "#  [3 5 4]\n",
        "#  [6 8 7]]\n",
        "\n",
        "\n",
        "arr = np.arange(9).reshape(3,3)\n",
        "print(arr)\n",
        "# your code here\n",
        "#pass\n",
        "arr = np.arange(9).reshape(3, 3)\n",
        "print(\"Original array:\")\n",
        "print(arr)\n",
        "\n",
        "arr[:, [1, 2]] = arr[:, [2, 1]]\n",
        "\n",
        "print(\"Array after swapping columns 1 and 2:\")\n",
        "print(arr)"
      ],
      "metadata": {
        "colab": {
          "base_uri": "https://localhost:8080/"
        },
        "id": "c0iOKVMh9wgI",
        "outputId": "aa1a04bb-a5d3-4bb5-a039-03f3ebb0fdd9"
      },
      "execution_count": 22,
      "outputs": [
        {
          "output_type": "stream",
          "name": "stdout",
          "text": [
            "[[0 1 2]\n",
            " [3 4 5]\n",
            " [6 7 8]]\n",
            "Original array:\n",
            "[[0 1 2]\n",
            " [3 4 5]\n",
            " [6 7 8]]\n",
            "Array after swapping columns 1 and 2:\n",
            "[[0 2 1]\n",
            " [3 5 4]\n",
            " [6 8 7]]\n"
          ]
        }
      ]
    },
    {
      "cell_type": "code",
      "source": [
        "# Create a 2D array of shape 5x3 to contain random decimal numbers between 5 and 10.\n",
        "# Hint\n",
        "# The desired Output should be like the following one:\n",
        "#  [[ 8.50061025  9.10531502  6.85867783]\n",
        "#   [ 9.76262069  9.87717411  7.13466701]\n",
        "#   [ 7.48966403  8.33409158  6.16808631]\n",
        "#   [ 7.75010551  9.94535696  5.27373226]\n",
        "\n",
        "random_array = np.random.uniform(5, 10, size=(5, 3))\n",
        "\n",
        "print(\"2D array with random decimal numbers between 5 and 10:\")\n",
        "print(random_array)"
      ],
      "metadata": {
        "colab": {
          "base_uri": "https://localhost:8080/"
        },
        "id": "leooTzDH901R",
        "outputId": "46ce609d-1387-484d-c4a4-61655707f6a3"
      },
      "execution_count": 23,
      "outputs": [
        {
          "output_type": "stream",
          "name": "stdout",
          "text": [
            "2D array with random decimal numbers between 5 and 10:\n",
            "[[5.30422018 7.00938443 9.67556709]\n",
            " [6.8480757  6.13131048 5.27508829]\n",
            " [8.72961593 5.42095078 6.56426448]\n",
            " [5.22459677 7.98439556 7.67961003]\n",
            " [5.25607022 9.55774029 6.64864158]]\n"
          ]
        }
      ]
    }
  ]
}