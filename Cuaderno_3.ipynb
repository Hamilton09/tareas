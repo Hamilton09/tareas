{
  "nbformat": 4,
  "nbformat_minor": 0,
  "metadata": {
    "colab": {
      "provenance": [],
      "authorship_tag": "ABX9TyOmqeMVf56bKtwsSOzHrjT5",
      "include_colab_link": true
    },
    "kernelspec": {
      "name": "python3",
      "display_name": "Python 3"
    },
    "language_info": {
      "name": "python"
    }
  },
  "cells": [
    {
      "cell_type": "markdown",
      "metadata": {
        "id": "view-in-github",
        "colab_type": "text"
      },
      "source": [
        "<a href=\"https://colab.research.google.com/github/Hamilton09/tareas/blob/main/Cuaderno_3.ipynb\" target=\"_parent\"><img src=\"https://colab.research.google.com/assets/colab-badge.svg\" alt=\"Open In Colab\"/></a>"
      ]
    },
    {
      "cell_type": "code",
      "execution_count": 19,
      "metadata": {
        "id": "G_2q9vH_y5R8"
      },
      "outputs": [],
      "source": [
        "import numpy as np"
      ]
    },
    {
      "cell_type": "code",
      "source": [
        "aux=np.array([1,2,3,4,5])\n",
        "print(aux)\n",
        "print(aux.shape)\n",
        "\n",
        "aux2=np.array([[1,2,3,4,5],[1,2,3,4,5]])\n",
        "print(aux2)\n",
        "print(aux2.shape)\n",
        "print(type(aux2))"
      ],
      "metadata": {
        "colab": {
          "base_uri": "https://localhost:8080/"
        },
        "id": "bV_uFRoEzFZD",
        "outputId": "8af756e5-6177-4fd2-b09f-143663007b9e"
      },
      "execution_count": 5,
      "outputs": [
        {
          "output_type": "stream",
          "name": "stdout",
          "text": [
            "[1 2 3 4 5]\n",
            "(5,)\n",
            "[[1 2 3 4 5]\n",
            " [1 2 3 4 5]]\n",
            "(2, 5)\n",
            "<class 'numpy.ndarray'>\n"
          ]
        }
      ]
    },
    {
      "cell_type": "code",
      "source": [
        "tmp=np.zeros((4,4))\n",
        "print(tmp)"
      ],
      "metadata": {
        "colab": {
          "base_uri": "https://localhost:8080/"
        },
        "id": "Dp8ZKToWzHnJ",
        "outputId": "8bb1519f-fc72-4461-b391-c731788638eb"
      },
      "execution_count": 6,
      "outputs": [
        {
          "output_type": "stream",
          "name": "stdout",
          "text": [
            "[[0. 0. 0. 0.]\n",
            " [0. 0. 0. 0.]\n",
            " [0. 0. 0. 0.]\n",
            " [0. 0. 0. 0.]]\n"
          ]
        }
      ]
    },
    {
      "cell_type": "code",
      "source": [
        "print(\"Matriz full valores del mismo numeroi\")\n",
        "tmp=np.full((4,4),5)\n",
        "print(tmp)"
      ],
      "metadata": {
        "colab": {
          "base_uri": "https://localhost:8080/"
        },
        "id": "iCoPvDsAzJar",
        "outputId": "33905a05-e5d6-4d6d-c045-a863ebee9852"
      },
      "execution_count": 7,
      "outputs": [
        {
          "output_type": "stream",
          "name": "stdout",
          "text": [
            "Matriz full valores del mismo numeroi\n",
            "[[5 5 5 5]\n",
            " [5 5 5 5]\n",
            " [5 5 5 5]\n",
            " [5 5 5 5]]\n"
          ]
        }
      ]
    },
    {
      "cell_type": "code",
      "source": [
        "print(\"Matriz diagonal\")\n",
        "tmp=np.eye(4,4)\n",
        "print(tmp)"
      ],
      "metadata": {
        "colab": {
          "base_uri": "https://localhost:8080/"
        },
        "id": "AaQIZcYezXZ6",
        "outputId": "fb92a060-f093-4b8f-a489-940555b257ba"
      },
      "execution_count": 8,
      "outputs": [
        {
          "output_type": "stream",
          "name": "stdout",
          "text": [
            "Matriz diagonal\n",
            "[[1. 0. 0. 0.]\n",
            " [0. 1. 0. 0.]\n",
            " [0. 0. 1. 0.]\n",
            " [0. 0. 0. 1.]]\n"
          ]
        }
      ]
    },
    {
      "cell_type": "code",
      "source": [
        "print(\"Matriz de 1\")\n",
        "tmp=np.ones((4,4))\n",
        "print(tmp)"
      ],
      "metadata": {
        "colab": {
          "base_uri": "https://localhost:8080/"
        },
        "id": "B_kJcHrjzZld",
        "outputId": "f9b75ef3-12b6-4ae2-8a7f-e823a5e02c66"
      },
      "execution_count": 9,
      "outputs": [
        {
          "output_type": "stream",
          "name": "stdout",
          "text": [
            "Matriz de 1\n",
            "[[1. 1. 1. 1.]\n",
            " [1. 1. 1. 1.]\n",
            " [1. 1. 1. 1.]\n",
            " [1. 1. 1. 1.]]\n"
          ]
        }
      ]
    },
    {
      "cell_type": "code",
      "source": [
        "print(\"Numeros randoms\")\n",
        "tmp=10*np.random.random((4,4))\n",
        "print(tmp)\n",
        "print(tmp.shape)"
      ],
      "metadata": {
        "colab": {
          "base_uri": "https://localhost:8080/"
        },
        "id": "FEMKyc1ZzcGM",
        "outputId": "61c13c67-fd66-41c5-e675-bee4ae661426"
      },
      "execution_count": 10,
      "outputs": [
        {
          "output_type": "stream",
          "name": "stdout",
          "text": [
            "Numeros randoms\n",
            "[[1.50506114 2.81102412 8.88815837 1.67568401]\n",
            " [1.05264282 0.8300028  7.62440076 0.74145545]\n",
            " [3.51437195 5.95990864 5.33416722 6.5836974 ]\n",
            " [7.82529691 7.4146055  6.47394464 4.48480887]]\n",
            "(4, 4)\n"
          ]
        }
      ]
    },
    {
      "cell_type": "code",
      "source": [
        "print(tmp[:2,:2])"
      ],
      "metadata": {
        "colab": {
          "base_uri": "https://localhost:8080/"
        },
        "id": "UlvvBgdzze1H",
        "outputId": "09a10701-c509-46a6-857d-bc47f5b2301f"
      },
      "execution_count": 11,
      "outputs": [
        {
          "output_type": "stream",
          "name": "stdout",
          "text": [
            "[[1.50506114 2.81102412]\n",
            " [1.05264282 0.8300028 ]]\n"
          ]
        }
      ]
    },
    {
      "cell_type": "code",
      "source": [
        "print(tmp[:2,1:3])"
      ],
      "metadata": {
        "colab": {
          "base_uri": "https://localhost:8080/"
        },
        "id": "SU7kPnx-zgtD",
        "outputId": "ea6df5a2-faf2-41a5-822a-4c270309872a"
      },
      "execution_count": 12,
      "outputs": [
        {
          "output_type": "stream",
          "name": "stdout",
          "text": [
            "[[2.81102412 8.88815837]\n",
            " [0.8300028  7.62440076]]\n"
          ]
        }
      ]
    },
    {
      "cell_type": "code",
      "source": [
        "print(tmp[3])"
      ],
      "metadata": {
        "colab": {
          "base_uri": "https://localhost:8080/"
        },
        "id": "J83iQuzYzidz",
        "outputId": "a5863017-092c-4abd-d31a-d5fd1d31b668"
      },
      "execution_count": 13,
      "outputs": [
        {
          "output_type": "stream",
          "name": "stdout",
          "text": [
            "[7.82529691 7.4146055  6.47394464 4.48480887]\n"
          ]
        }
      ]
    },
    {
      "cell_type": "code",
      "source": [
        "print(tmp[2,2])"
      ],
      "metadata": {
        "colab": {
          "base_uri": "https://localhost:8080/"
        },
        "id": "Bpc7hneJzkiY",
        "outputId": "b899122e-6f65-406b-d853-b5c747f9f1fa"
      },
      "execution_count": 14,
      "outputs": [
        {
          "output_type": "stream",
          "name": "stdout",
          "text": [
            "5.334167217017004\n"
          ]
        }
      ]
    },
    {
      "cell_type": "code",
      "source": [
        "print(\"Numeros randoms\")\n",
        "tmp=10*np.random.random((4,4))\n",
        "print(tmp)\n",
        "print(tmp.shape)"
      ],
      "metadata": {
        "colab": {
          "base_uri": "https://localhost:8080/"
        },
        "id": "augYeuE6zmlg",
        "outputId": "5c5f518b-2f8c-4a17-a673-46a6addb44e4"
      },
      "execution_count": 15,
      "outputs": [
        {
          "output_type": "stream",
          "name": "stdout",
          "text": [
            "Numeros randoms\n",
            "[[8.85584409 1.21843306 0.83102329 7.73974671]\n",
            " [8.69816942 4.31128915 7.1149265  0.7045951 ]\n",
            " [1.56863619 9.95696628 2.84435999 0.95022281]\n",
            " [7.50546447 7.40442986 3.26741946 5.4167723 ]]\n",
            "(4, 4)\n"
          ]
        }
      ]
    },
    {
      "cell_type": "code",
      "source": [
        "mask=tmp>5\n",
        "print(tmp[mask])"
      ],
      "metadata": {
        "colab": {
          "base_uri": "https://localhost:8080/"
        },
        "id": "SvRCmyATzpE_",
        "outputId": "45e30bf4-00cd-4938-a5f9-5f457cf3677a"
      },
      "execution_count": 16,
      "outputs": [
        {
          "output_type": "stream",
          "name": "stdout",
          "text": [
            "[8.85584409 7.73974671 8.69816942 7.1149265  9.95696628 7.50546447\n",
            " 7.40442986 5.4167723 ]\n"
          ]
        }
      ]
    },
    {
      "cell_type": "code",
      "source": [
        "mask=(tmp>=2)&(tmp<=4)\n",
        "print(tmp[mask])"
      ],
      "metadata": {
        "colab": {
          "base_uri": "https://localhost:8080/"
        },
        "id": "DrzXAn_jzrFT",
        "outputId": "d3aa9f5c-583c-465e-b4ef-37504250abfb"
      },
      "execution_count": 17,
      "outputs": [
        {
          "output_type": "stream",
          "name": "stdout",
          "text": [
            "[2.84435999 3.26741946]\n"
          ]
        }
      ]
    },
    {
      "cell_type": "code",
      "source": [
        "# Crear un arreglo de 4x4 con valores aleatorios enteros entre 1 y 100\n",
        "arreglo = np.random.randint(1, 101, size=(4, 4))\n",
        "\n",
        "print(\"Arreglo original:\")\n",
        "print(arreglo)\n",
        "\n",
        "# Crear una máscara booleana para los números pares\n",
        "mascara_pares = arreglo % 2 == 0\n",
        "\n",
        "# Aplicar la máscara para seleccionar los números pares\n",
        "numeros_pares = arreglo[mascara_pares]\n",
        "\n",
        "print(\"Números pares:\")\n",
        "print(numeros_pares)"
      ],
      "metadata": {
        "colab": {
          "base_uri": "https://localhost:8080/"
        },
        "id": "D8QMEJ-rzzct",
        "outputId": "ef096ced-10f4-493a-c934-1417cc071f96"
      },
      "execution_count": 18,
      "outputs": [
        {
          "output_type": "stream",
          "name": "stdout",
          "text": [
            "Arreglo original:\n",
            "[[78 80 17 46]\n",
            " [20 73 59 18]\n",
            " [95 13 83  9]\n",
            " [65 85 17 16]]\n",
            "Números pares:\n",
            "[78 80 46 20 18 16]\n"
          ]
        }
      ]
    }
  ]
}