{
  "nbformat": 4,
  "nbformat_minor": 0,
  "metadata": {
    "colab": {
      "provenance": [],
      "include_colab_link": true
    },
    "kernelspec": {
      "name": "python3",
      "display_name": "Python 3"
    },
    "language_info": {
      "name": "python"
    }
  },
  "cells": [
    {
      "cell_type": "markdown",
      "metadata": {
        "id": "view-in-github",
        "colab_type": "text"
      },
      "source": [
        "<a href=\"https://colab.research.google.com/github/Hamilton09/tareas/blob/main/NumPy_Exercises_for_Data_Analysis.ipynb\" target=\"_parent\"><img src=\"https://colab.research.google.com/assets/colab-badge.svg\" alt=\"Open In Colab\"/></a>"
      ]
    },
    {
      "cell_type": "markdown",
      "source": [
        "NumPy Exercises for Data Analysis"
      ],
      "metadata": {
        "id": "hSsi2_-klame"
      }
    },
    {
      "cell_type": "code",
      "source": [
        "# Import numpy as np and see the version\n",
        "\n",
        "# your code here\n",
        "#pass\n",
        "import numpy as np\n",
        "\n",
        "# Verificar la versión de NumPy\n",
        "print(\"Versión de NumPy:\", np.__version__)"
      ],
      "metadata": {
        "id": "kuK4TNepldem",
        "outputId": "ac1fd069-a314-49f9-ec56-196c4ccd9193",
        "colab": {
          "base_uri": "https://localhost:8080/"
        }
      },
      "execution_count": 3,
      "outputs": [
        {
          "output_type": "stream",
          "name": "stdout",
          "text": [
            "Versión de NumPy: 1.23.5\n"
          ]
        }
      ]
    },
    {
      "cell_type": "code",
      "source": [
        "# Create a 1D array of numbers from 0 to 9\n",
        "# your code here\n",
        "#pass\n",
        "import numpy as np\n",
        "\n",
        "# Crear un array 1D con números del 0 al 9\n",
        "array_1d = np.arange(10)\n",
        "\n",
        "# Imprimir el array resultante\n",
        "print(array_1d)\n"
      ],
      "metadata": {
        "id": "hbYX-oMBlvS-",
        "outputId": "599102dd-6ef8-4235-c5c5-62e293f88cf6",
        "colab": {
          "base_uri": "https://localhost:8080/"
        }
      },
      "execution_count": 4,
      "outputs": [
        {
          "output_type": "stream",
          "name": "stdout",
          "text": [
            "[0 1 2 3 4 5 6 7 8 9]\n"
          ]
        }
      ]
    },
    {
      "cell_type": "code",
      "source": [
        "# Create random vector of size 10 and replace the maximum value by 0\n",
        "#pass\n",
        "import numpy as np\n",
        "\n",
        "# Crear un vector aleatorio de tamaño 10\n",
        "random_vector = np.random.rand(10)\n",
        "\n",
        "# Imprimir el vector original\n",
        "print(\"Vector original:\")\n",
        "print(random_vector)\n",
        "\n",
        "# Encontrar el índice del valor máximo\n",
        "max_index = np.argmax(random_vector)\n",
        "\n",
        "# Reemplazar el valor máximo por 0\n",
        "random_vector[max_index] = 0\n",
        "\n",
        "# Imprimir el vector después de la modificación\n",
        "print(\"\\nVector con el máximo reemplazado por 0:\")\n",
        "print(random_vector)\n"
      ],
      "metadata": {
        "id": "HfsNmdvrwqsO",
        "outputId": "71060ae3-b2b5-4384-dd76-37b0966e99b7",
        "colab": {
          "base_uri": "https://localhost:8080/"
        }
      },
      "execution_count": 5,
      "outputs": [
        {
          "output_type": "stream",
          "name": "stdout",
          "text": [
            "Vector original:\n",
            "[0.07487834 0.09745486 0.29070985 0.54377705 0.68203273 0.17646827\n",
            " 0.09539906 0.36632132 0.4993012  0.8550234 ]\n",
            "\n",
            "Vector con el máximo reemplazado por 0:\n",
            "[0.07487834 0.09745486 0.29070985 0.54377705 0.68203273 0.17646827\n",
            " 0.09539906 0.36632132 0.4993012  0.        ]\n"
          ]
        }
      ]
    },
    {
      "cell_type": "code",
      "source": [
        "# # Print the number 8 from the array below:\n",
        "# # arr = np.array([[1,2,3,4,5], [6,7,8,9,10]])\n",
        "# pass\n",
        "import numpy as np\n",
        "\n",
        "# Definir la matriz\n",
        "arr = np.array([[1, 2, 3, 4, 5], [6, 7, 8, 9, 10]])\n",
        "\n",
        "# Imprimir el número 8\n",
        "print(\"Número 8 en la matriz:\", arr[1, 2])\n"
      ],
      "metadata": {
        "id": "a9T-W3uUoqcE",
        "outputId": "ff022b42-2827-452a-f5e1-f188d859dcc1",
        "colab": {
          "base_uri": "https://localhost:8080/"
        }
      },
      "execution_count": 6,
      "outputs": [
        {
          "output_type": "stream",
          "name": "stdout",
          "text": [
            "Número 8 en la matriz: 8\n"
          ]
        }
      ]
    },
    {
      "cell_type": "code",
      "source": [
        "# # Print the numbers [3, 4, 5] from the array below:\n",
        "# # arr = np.array([1,2,3,4,5,6,7])\n",
        "# pass\n",
        "import numpy as np\n",
        "\n",
        "# Definir el array\n",
        "arr = np.array([1, 2, 3, 4, 5, 6, 7])\n",
        "\n",
        "# Imprimir los números [3, 4, 5]\n",
        "print(\"Números [3, 4, 5] en el array:\", arr[2:5])\n"
      ],
      "metadata": {
        "id": "PqvPijs8o2ub",
        "outputId": "2c2e2cd3-7b04-4b72-e735-45b79799d4a1",
        "colab": {
          "base_uri": "https://localhost:8080/"
        }
      },
      "execution_count": 7,
      "outputs": [
        {
          "output_type": "stream",
          "name": "stdout",
          "text": [
            "Números [3, 4, 5] en el array: [3 4 5]\n"
          ]
        }
      ]
    },
    {
      "cell_type": "code",
      "source": [
        "# # Print the last 4 numbers from the array below:\n",
        "# # arr = np.array([1,2,3,4,5,6,7])\n",
        "# pass\n",
        "import numpy as np\n",
        "\n",
        "# Definir el array\n",
        "arr = np.array([1, 2, 3, 4, 5, 6, 7])\n",
        "\n",
        "# Imprimir los últimos 4 números\n",
        "print(\"Últimos 4 números en el array:\", arr[-4:])\n"
      ],
      "metadata": {
        "id": "H5iUCizHpk0L",
        "outputId": "3be5ac28-ebc6-4c57-c7fe-0a32bc232291",
        "colab": {
          "base_uri": "https://localhost:8080/"
        }
      },
      "execution_count": 8,
      "outputs": [
        {
          "output_type": "stream",
          "name": "stdout",
          "text": [
            "Últimos 4 números en el array: [4 5 6 7]\n"
          ]
        }
      ]
    },
    {
      "cell_type": "code",
      "source": [
        "# # Create a 3×3 numpy array of all True’s\n",
        "# # your code here\n",
        "# pass\n",
        "import numpy as np\n",
        "\n",
        "# Crear una matriz de 3x3 con todos los valores True\n",
        "true_matrix = np.ones((3, 3), dtype=bool)\n",
        "\n",
        "# Imprimir la matriz resultante\n",
        "print(true_matrix)\n"
      ],
      "metadata": {
        "id": "C9nBztXhl9NA",
        "outputId": "d70deb7e-b833-4a30-dd60-73e520681dc9",
        "colab": {
          "base_uri": "https://localhost:8080/"
        }
      },
      "execution_count": 9,
      "outputs": [
        {
          "output_type": "stream",
          "name": "stdout",
          "text": [
            "[[ True  True  True]\n",
            " [ True  True  True]\n",
            " [ True  True  True]]\n"
          ]
        }
      ]
    },
    {
      "cell_type": "code",
      "source": [
        "# # Extract all odd numbers from arr\n",
        "# # your code here\n",
        "# pass\n",
        "import numpy as np\n",
        "\n",
        "# Definir la matriz\n",
        "arr = np.array([1, 2, 3, 4, 5, 6, 7, 8, 9])\n",
        "\n",
        "# Extraer los números impares\n",
        "odd_numbers = arr[arr % 2 != 0]\n",
        "\n",
        "# Imprimir los números impares\n",
        "print(\"Números impares en la matriz:\", odd_numbers)\n"
      ],
      "metadata": {
        "id": "W18lqbBwmIhw",
        "outputId": "afaa40c4-32dc-4eb4-8c14-d43a772347e2",
        "colab": {
          "base_uri": "https://localhost:8080/"
        }
      },
      "execution_count": 10,
      "outputs": [
        {
          "output_type": "stream",
          "name": "stdout",
          "text": [
            "Números impares en la matriz: [1 3 5 7 9]\n"
          ]
        }
      ]
    },
    {
      "cell_type": "code",
      "source": [
        "# # Create a vector with values ranging from 10 to 49 (★☆☆)\n",
        "# pass\n",
        "import numpy as np\n",
        "\n",
        "# Crear un vector con valores en el rango de 10 a 49\n",
        "vector = np.arange(10, 50)\n",
        "\n",
        "# Imprimir el vector resultante\n",
        "print(vector)\n"
      ],
      "metadata": {
        "id": "hA9iXCAwr55v",
        "outputId": "9ae103e1-bdfc-4197-e582-84c0ba00d220",
        "colab": {
          "base_uri": "https://localhost:8080/"
        }
      },
      "execution_count": 11,
      "outputs": [
        {
          "output_type": "stream",
          "name": "stdout",
          "text": [
            "[10 11 12 13 14 15 16 17 18 19 20 21 22 23 24 25 26 27 28 29 30 31 32 33\n",
            " 34 35 36 37 38 39 40 41 42 43 44 45 46 47 48 49]\n"
          ]
        }
      ]
    },
    {
      "cell_type": "code",
      "source": [
        "# # Reverse a vector (first element becomes last)\n",
        "# pass\n",
        "import numpy as np\n",
        "\n",
        "# Crear un vector\n",
        "vector = np.array([1, 2, 3, 4, 5])\n",
        "\n",
        "# Invertir el vector\n",
        "reversed_vector = vector[::-1]\n",
        "\n",
        "# Imprimir el vector invertido\n",
        "print(\"Vector original:\", vector)\n",
        "print(\"Vector invertido:\", reversed_vector)\n"
      ],
      "metadata": {
        "id": "R-_IjeHyr83q",
        "outputId": "00ce4af4-4ebf-48a5-9021-73362d42efbb",
        "colab": {
          "base_uri": "https://localhost:8080/"
        }
      },
      "execution_count": 12,
      "outputs": [
        {
          "output_type": "stream",
          "name": "stdout",
          "text": [
            "Vector original: [1 2 3 4 5]\n",
            "Vector invertido: [5 4 3 2 1]\n"
          ]
        }
      ]
    },
    {
      "cell_type": "code",
      "source": [
        "# #  Create a 10x10 array with random integer values and find the minimum and maximum values\n",
        "# pass\n",
        "import numpy as np\n",
        "\n",
        "# Crear una matriz de 10x10 con valores enteros aleatorios\n",
        "random_matrix = np.random.randint(low=1, high=100, size=(10, 10))\n",
        "\n",
        "# Imprimir la matriz\n",
        "print(\"Matriz aleatoria:\")\n",
        "print(random_matrix)\n",
        "\n",
        "# Encontrar el valor mínimo y máximo\n",
        "min_value = np.min(random_matrix)\n",
        "max_value = np.max(random_matrix)\n",
        "\n",
        "# Imprimir los resultados\n",
        "print(\"\\nValor mínimo:\", min_value)\n",
        "print(\"Valor máximo:\", max_value)\n"
      ],
      "metadata": {
        "id": "rEWwl_weuq3B",
        "outputId": "c392b292-8739-4a2b-eb7c-62bdff191c61",
        "colab": {
          "base_uri": "https://localhost:8080/"
        }
      },
      "execution_count": 13,
      "outputs": [
        {
          "output_type": "stream",
          "name": "stdout",
          "text": [
            "Matriz aleatoria:\n",
            "[[43 39 92 16 83 81  8 45 30 72]\n",
            " [11  5  4 51  1 32 44 68 22 26]\n",
            " [67 38 76 73 69 54 60 12 64 48]\n",
            " [62 68  4 35 30  8 85 38 32 20]\n",
            " [ 4 21 88 33  8 98 22 65  1 64]\n",
            " [21 67 67 15 62 67 53 85 81 83]\n",
            " [65 45 49 28 55 96 65 68 65 43]\n",
            " [19 72  1 24 46 61 56 24 70 62]\n",
            " [93 99  2 99 88 21 11 22 92 48]\n",
            " [36 93 37  3 24 46 30 88 33  5]]\n",
            "\n",
            "Valor mínimo: 1\n",
            "Valor máximo: 99\n"
          ]
        }
      ]
    },
    {
      "cell_type": "code",
      "source": [
        "# # Create a 3x3x3 array with random values\n",
        "# pass\n",
        "import numpy as np\n",
        "\n",
        "# Crear una matriz tridimensional (3x3x3) con valores aleatorios\n",
        "random_3d_array = np.random.rand(3, 3, 3)\n",
        "\n",
        "# Imprimir la matriz tridimensional\n",
        "print(\"Matriz tridimensional con valores aleatorios:\")\n",
        "print(random_3d_array)\n"
      ],
      "metadata": {
        "id": "KFy17KsvvSql",
        "outputId": "ccf1a2b2-4fbd-4325-9826-f30589b14b86",
        "colab": {
          "base_uri": "https://localhost:8080/"
        }
      },
      "execution_count": 14,
      "outputs": [
        {
          "output_type": "stream",
          "name": "stdout",
          "text": [
            "Matriz tridimensional con valores aleatorios:\n",
            "[[[0.86126976 0.09762595 0.11954385]\n",
            "  [0.85595118 0.94065492 0.89914395]\n",
            "  [0.13230066 0.54926999 0.75319396]]\n",
            "\n",
            " [[0.21122017 0.45339971 0.45295429]\n",
            "  [0.02432861 0.07146527 0.16877773]\n",
            "  [0.06290251 0.71238341 0.53017548]]\n",
            "\n",
            " [[0.61264029 0.74041816 0.72108441]\n",
            "  [0.25977181 0.37226708 0.7179199 ]\n",
            "  [0.17846605 0.32217157 0.60126556]]]\n"
          ]
        }
      ]
    },
    {
      "cell_type": "code",
      "source": [
        "# # Replace all odd numbers in arr with -1\n",
        "# # your code here\n",
        "# pass\n",
        "import numpy as np\n",
        "\n",
        "# Definir el array\n",
        "arr = np.array([1, 2, 3, 4, 5, 6, 7, 8, 9])\n",
        "\n",
        "# Crear una máscara para los números impares\n",
        "mask = arr % 2 != 0\n",
        "\n",
        "# Reemplazar los números impares con -1\n",
        "arr[mask] = -1\n",
        "\n",
        "# Imprimir el array después de la modificación\n",
        "print(\"Array después de reemplazar los impares con -1:\")\n",
        "print(arr)\n"
      ],
      "metadata": {
        "id": "X7ol3alqmbNa",
        "outputId": "997c8b74-7434-42d2-cb70-b8da078795a8",
        "colab": {
          "base_uri": "https://localhost:8080/"
        }
      },
      "execution_count": 15,
      "outputs": [
        {
          "output_type": "stream",
          "name": "stdout",
          "text": [
            "Array después de reemplazar los impares con -1:\n",
            "[-1  2 -1  4 -1  6 -1  8 -1]\n"
          ]
        }
      ]
    },
    {
      "cell_type": "code",
      "source": [
        "# # Create an array of type float\n",
        "# pass\n",
        "import numpy as np\n",
        "\n",
        "# Crear un array de tipo float\n",
        "float_array = np.array([1.0, 2.5, 3.7], dtype=float)\n",
        "\n",
        "# Imprimir el array y su tipo de dato\n",
        "print(\"Array de tipo float:\", float_array)\n",
        "print(\"Tipo de dato del array:\", float_array.dtype)\n"
      ],
      "metadata": {
        "id": "GwdXYn9HqYTL",
        "outputId": "7be7799c-8eab-45a4-87fc-c714252c317c",
        "colab": {
          "base_uri": "https://localhost:8080/"
        }
      },
      "execution_count": 16,
      "outputs": [
        {
          "output_type": "stream",
          "name": "stdout",
          "text": [
            "Array de tipo float: [1.  2.5 3.7]\n",
            "Tipo de dato del array: float64\n"
          ]
        }
      ]
    },
    {
      "cell_type": "code",
      "source": [
        "# # Convert a 1D array to a 2D array with 2 rows\n",
        "# # your code here\n",
        "# pass\n",
        "import numpy as np\n",
        "\n",
        "# Crear un array unidimensional\n",
        "array_1d = np.array([1, 2, 3, 4, 5, 6, 7, 8])\n",
        "\n",
        "# Convertir a un array bidimensional con 2 filas\n",
        "array_2d = array_1d.reshape(2, -1)\n",
        "\n",
        "# Imprimir el array bidimensional resultante\n",
        "print(\"Array bidimensional con 2 filas:\")\n",
        "print(array_2d)\n"
      ],
      "metadata": {
        "id": "LvcL1lUYoPjN",
        "outputId": "0c992b6a-719a-42a5-974e-d62a783a16c7",
        "colab": {
          "base_uri": "https://localhost:8080/"
        }
      },
      "execution_count": 17,
      "outputs": [
        {
          "output_type": "stream",
          "name": "stdout",
          "text": [
            "Array bidimensional con 2 filas:\n",
            "[[1 2 3 4]\n",
            " [5 6 7 8]]\n"
          ]
        }
      ]
    },
    {
      "cell_type": "code",
      "source": [
        "# # How to find common values between two arrays?\n",
        "\n",
        "# # Z1 = np.random.randint(0,10,10)\n",
        "# # Z2 = np.random.randint(0,10,10)\n",
        "# pass\n",
        "import numpy as np\n",
        "\n",
        "# Crear dos arrays aleatorios\n",
        "Z1 = np.random.randint(0, 10, 10)\n",
        "Z2 = np.random.randint(0, 10, 10)\n",
        "\n",
        "# Encontrar los valores comunes\n",
        "common_values = np.intersect1d(Z1, Z2)\n",
        "\n",
        "# Imprimir los resultados\n",
        "print(\"Array 1:\", Z1)\n",
        "print(\"Array 2:\", Z2)\n",
        "print(\"Valores comunes:\", common_values)\n"
      ],
      "metadata": {
        "id": "VbzMDKQvv0DX",
        "outputId": "97c04474-f7dd-4bed-c35a-ba4b27618f6b",
        "colab": {
          "base_uri": "https://localhost:8080/"
        }
      },
      "execution_count": 18,
      "outputs": [
        {
          "output_type": "stream",
          "name": "stdout",
          "text": [
            "Array 1: [1 0 7 6 4 3 2 8 2 7]\n",
            "Array 2: [1 1 3 2 3 5 1 0 6 4]\n",
            "Valores comunes: [0 1 2 3 4 6]\n"
          ]
        }
      ]
    },
    {
      "cell_type": "code",
      "source": [
        "# #  Consider two random array A and B, check if they are equal\n",
        "\n",
        "\n",
        "# # A = np.random.randint(0,2,5)\n",
        "# # B = np.random.randint(0,2,5)\n",
        "\n",
        "# pass\n",
        "import numpy as np\n",
        "\n",
        "# Crear dos arrays aleatorios\n",
        "A = np.random.randint(0, 2, 5)\n",
        "B = np.random.randint(0, 2, 5)\n",
        "\n",
        "# Verificar si los arrays son iguales\n",
        "are_equal = np.array_equal(A, B)\n",
        "\n",
        "# Imprimir el resultado\n",
        "print(\"Array A:\", A)\n",
        "print(\"Array B:\", B)\n",
        "print(\"¿Los arrays son iguales?\", are_equal)\n"
      ],
      "metadata": {
        "id": "RWWspnDAwWGV",
        "outputId": "cb692eb1-ad0c-4bff-9629-38ffe2ec4441",
        "colab": {
          "base_uri": "https://localhost:8080/"
        }
      },
      "execution_count": 19,
      "outputs": [
        {
          "output_type": "stream",
          "name": "stdout",
          "text": [
            "Array A: [1 1 0 1 0]\n",
            "Array B: [1 0 0 0 0]\n",
            "¿Los arrays son iguales? False\n"
          ]
        }
      ]
    },
    {
      "cell_type": "code",
      "source": [
        "# # Stack arrays a and b vertically\n",
        "# # your code here\n",
        "# pass\n",
        "import numpy as np\n",
        "\n",
        "# Crear dos arrays\n",
        "a = np.array([1, 2, 3])\n",
        "b = np.array([4, 5, 6])\n",
        "\n",
        "# Apilar los arrays verticalmente\n",
        "stacked_array = np.vstack((a, b))\n",
        "\n",
        "# Imprimir el resultado\n",
        "print(\"Array a:\")\n",
        "print(a)\n",
        "print(\"\\nArray b:\")\n",
        "print(b)\n",
        "print(\"\\nArrays apilados verticalmente:\")\n",
        "print(stacked_array)\n"
      ],
      "metadata": {
        "id": "SW3KvPXhoeie",
        "outputId": "e4724e35-8991-40a8-f4d4-4407f8dcb71a",
        "colab": {
          "base_uri": "https://localhost:8080/"
        }
      },
      "execution_count": 20,
      "outputs": [
        {
          "output_type": "stream",
          "name": "stdout",
          "text": [
            "Array a:\n",
            "[1 2 3]\n",
            "\n",
            "Array b:\n",
            "[4 5 6]\n",
            "\n",
            "Arrays apilados verticalmente:\n",
            "[[1 2 3]\n",
            " [4 5 6]]\n"
          ]
        }
      ]
    },
    {
      "cell_type": "code",
      "source": [
        "# # Stack the arrays a and b horizontally.\n",
        "# # your code here\n",
        "# pass\n",
        "import numpy as np\n",
        "\n",
        "# Crear dos arrays\n",
        "a = np.array([1, 2, 3])\n",
        "b = np.array([4, 5, 6])\n",
        "\n",
        "# Apilar los arrays horizontalmente\n",
        "stacked_array = np.hstack((a, b))\n",
        "\n",
        "# Imprimir el resultado\n",
        "print(\"Array a:\")\n",
        "print(a)\n",
        "print(\"\\nArray b:\")\n",
        "print(b)\n",
        "print(\"\\nArrays apilados horizontalmente:\")\n",
        "print(stacked_array)\n"
      ],
      "metadata": {
        "id": "6wVOpIT9omwe",
        "outputId": "b6908dd8-4341-4d92-bf64-2755c57fdb22",
        "colab": {
          "base_uri": "https://localhost:8080/"
        }
      },
      "execution_count": 21,
      "outputs": [
        {
          "output_type": "stream",
          "name": "stdout",
          "text": [
            "Array a:\n",
            "[1 2 3]\n",
            "\n",
            "Array b:\n",
            "[4 5 6]\n",
            "\n",
            "Arrays apilados horizontalmente:\n",
            "[1 2 3 4 5 6]\n"
          ]
        }
      ]
    },
    {
      "cell_type": "code",
      "source": [
        "# # Get all items between 5 and 10 from array tmp.\n",
        "# # your code here\n",
        "# import numpy as np\n",
        "# tmp = np.arange(15)\n",
        "# # pass\n",
        "import numpy as np\n",
        "\n",
        "tmp = np.arange(15)\n",
        "\n",
        "# Obtener los elementos entre 5 y 10\n",
        "result = tmp[(tmp >= 5) & (tmp <= 10)]\n",
        "\n",
        "# Imprimir el resultado\n",
        "print(\"Elementos entre 5 y 10:\", result)\n"
      ],
      "metadata": {
        "id": "L_7vMkGOo0gX",
        "outputId": "4b8dc488-b6f5-47f3-bebb-738685dad792",
        "colab": {
          "base_uri": "https://localhost:8080/"
        }
      },
      "execution_count": 22,
      "outputs": [
        {
          "output_type": "stream",
          "name": "stdout",
          "text": [
            "Elementos entre 5 y 10: [ 5  6  7  8  9 10]\n"
          ]
        }
      ]
    },
    {
      "cell_type": "code",
      "source": [
        "# How to make a python function that handles scalars to work on numpy arrays?\n",
        "# Hint\n",
        "# Desired Output:\n",
        "# a = np.array([5, 7, 9, 8, 6, 4, 5])\n",
        "# b = np.array([6, 3, 4, 8, 9, 7, 1])\n",
        "# pair_max(a, b)\n",
        "# #> array([ 6.,  7.,  9.,  8.,  9.,  7.,  5.])\n",
        "\n",
        "\n",
        "# your code here\n",
        "import numpy as np\n",
        "\n",
        "def pair_max(x, y):\n",
        "    \"\"\"Get the maximum of two items\"\"\"\n",
        "    return np.maximum(x, y)\n",
        "\n",
        "# Example usage\n",
        "a = np.array([5, 7, 9, 8, 6, 4, 5])\n",
        "b = np.array([6, 3, 4, 8, 9, 7, 1])\n",
        "\n",
        "result = pair_max(a, b)\n",
        "print(result)\n"
      ],
      "metadata": {
        "colab": {
          "base_uri": "https://localhost:8080/"
        },
        "id": "FVZz6ZY0p9ya",
        "outputId": "770c5629-2ec7-48f0-ae63-ea179ccb8f6d"
      },
      "execution_count": 23,
      "outputs": [
        {
          "output_type": "stream",
          "name": "stdout",
          "text": [
            "[6 7 9 8 9 7 5]\n"
          ]
        }
      ]
    },
    {
      "cell_type": "code",
      "source": [
        "# # Swap columns 1 and 2 in the array arr.\n",
        "# # Hint\n",
        "# # Desired Output:\n",
        "# # [[0 2 1]\n",
        "# #  [3 5 4]\n",
        "# #  [6 8 7]]\n",
        "\n",
        "\n",
        "# arr = np.arange(9).reshape(3,3)\n",
        "# print(arr)\n",
        "# # your code here\n",
        "# pass\n",
        "import numpy as np\n",
        "\n",
        "arr = np.arange(9).reshape(3, 3)\n",
        "print(\"Original array:\")\n",
        "print(arr)\n",
        "\n",
        "# Swap columns 1 and 2\n",
        "arr[:, [1, 2]] = arr[:, [2, 1]]\n",
        "\n",
        "print(\"\\nArray after swapping columns 1 and 2:\")\n",
        "print(arr)\n"
      ],
      "metadata": {
        "colab": {
          "base_uri": "https://localhost:8080/"
        },
        "outputId": "d9c27663-3cc2-48cd-ab28-07df6cb85fa4",
        "id": "8vIzM5e8ql6i"
      },
      "execution_count": 24,
      "outputs": [
        {
          "output_type": "stream",
          "name": "stdout",
          "text": [
            "Original array:\n",
            "[[0 1 2]\n",
            " [3 4 5]\n",
            " [6 7 8]]\n",
            "\n",
            "Array after swapping columns 1 and 2:\n",
            "[[0 2 1]\n",
            " [3 5 4]\n",
            " [6 8 7]]\n"
          ]
        }
      ]
    },
    {
      "cell_type": "code",
      "source": [
        "# Create a 2D array of shape 5x3 to contain random decimal numbers between 5 and 10.\n",
        "# Hint\n",
        "# The desired Output should be like the following one:\n",
        "#  [[ 8.50061025  9.10531502  6.85867783]\n",
        "#   [ 9.76262069  9.87717411  7.13466701]\n",
        "#   [ 7.48966403  8.33409158  6.16808631]\n",
        "#   [ 7.75010551  9.94535696  5.27373226]\n",
        "#   [ 8.0850361   5.56165518  7.31244004]]\n",
        "import numpy as np\n",
        "\n",
        "# Create a 2D array of shape 5x3 with random decimal numbers between 5 and 10\n",
        "random_array = np.random.uniform(5, 10, size=(5, 3))\n",
        "\n",
        "# Print the result\n",
        "print(random_array)\n",
        "\n"
      ],
      "metadata": {
        "id": "FOXX5b17rY7E",
        "outputId": "e3037803-7d37-4d0f-df33-5389503933fa",
        "colab": {
          "base_uri": "https://localhost:8080/"
        }
      },
      "execution_count": 25,
      "outputs": [
        {
          "output_type": "stream",
          "name": "stdout",
          "text": [
            "[[5.04084822 5.74046493 9.65999382]\n",
            " [8.36090816 7.38877013 9.71732648]\n",
            " [5.10442684 5.34956609 5.41903085]\n",
            " [6.13327785 6.95459769 9.97547369]\n",
            " [5.80630858 7.54337293 5.13323565]]\n"
          ]
        }
      ]
    }
  ]
}